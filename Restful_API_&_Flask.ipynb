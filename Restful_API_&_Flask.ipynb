{
  "nbformat": 4,
  "nbformat_minor": 0,
  "metadata": {
    "colab": {
      "provenance": []
    },
    "kernelspec": {
      "name": "python3",
      "display_name": "Python 3"
    },
    "language_info": {
      "name": "python"
    }
  },
  "cells": [
    {
      "cell_type": "code",
      "execution_count": null,
      "metadata": {
        "id": "-knlhoU97Pcl"
      },
      "outputs": [],
      "source": []
    },
    {
      "cell_type": "markdown",
      "source": [
        "#Theory\n",
        "\n",
        "1.  What is a RESTful API?\n",
        "\n",
        "Ans: REST stands for Representational State Transfer.\n",
        "It is an architectural style for building web services (APIs) that are:\n",
        "Scalable\n",
        "Simple\n",
        "Easy to integrate\n",
        "\n",
        "2.  Explain the concept of API specification?\n",
        "\n",
        "Ans:It's a document that defines how an API behaves , including endpoints , methods, parameters, and responses.\n",
        "\n",
        "3.  What is Flask, and why is it popular for building APIs?\n",
        "\n",
        "Ans:Flask is a python web framework , it's poupular due to simplicity,flexibility, and built-in support for APIs.\n",
        "\n",
        " 4. What is routing in Flask?\n",
        "\n",
        " Ans:Routing Maps URLs to specific functions in a flask app.\n",
        "\n",
        " 5.  How do you create a simple Flask application?\n",
        "\n",
        " Ans: from flask import Flask\n",
        "      app = Flask(__name)\n",
        "      @app.route(\"/\")\n",
        "      def home():\n",
        "         return \"Hello Flask\"\n",
        "      if __name__ == __main__:\n",
        "      app.run(debug=True)\n",
        "       \n",
        "\n",
        " 6.  What are HTTP methods used in RESTful APIs?\n",
        "\n",
        " Ans:GET,POST,PUT,DELETE,PATCH.\n",
        "\n",
        " 7.  What is the purpose of the @app.route() decorator in Flask?\n",
        "\n",
        " Ans: it defines the route/URL that a function should respond to.\n",
        "\n",
        " 8.  What is the difference between GET and POST HTTP methods?\n",
        "\n",
        " Ans: GET is used to fetch the data and POST is used to submit the data to teh server.\n",
        "\n",
        " 9.  How do you handle errors in Flask APIs?\n",
        "\n",
        " Ans: Using @app.errorhandler() or returning proper status code in responses.\n",
        "\n",
        " 10.  How do you connect Flask to a SQL database?\n",
        "\n",
        " Ans: Using Flask-SQLAlchemy\n",
        "\n",
        " 11.  What is the role of Flask-SQLAlchemy?\n",
        "\n",
        " Ans: It integrates SQLAlchemy ORM with flask to manage databases easily.\n",
        "\n",
        " 12.  What are Flask blueprints, and how are they useful?\n",
        "\n",
        " Ans: Blueprints organize  Flask apps into modules for scalability.\n",
        "\n",
        " 13.  What is the purpose of Flask's request object?\n",
        "\n",
        " Ans: To accesss incoming request data like form,JSON and headers.\n",
        "\n",
        " 14.  How do you create a RESTful API endpoint using Flask?\n",
        "\n",
        " Ans: use get /post methods\n",
        " @app.route(\"/api/data\",method=[\"GET\"])\n",
        "     def get_data():\n",
        "       return jsonify({\"data\":\"values\"})\n",
        "\n",
        " 15.  What is the purpose of Flask's jsonify() function?\n",
        "\n",
        " Ans: Converts python dicts to JSON responses.\n",
        "\n",
        " 16.  Explain Flask’s url_for() function?\n",
        "\n",
        " Ans: Generates URLs dynamically using function names.\n",
        "\n",
        " 17.  How does Flask handle static files (CSS, JavaScript, etc.)?\n",
        "\n",
        " Ans: using static folder and url_for(\"static\",filename=\"fl.css\").\n",
        "\n",
        " 18.  What is an API specification, and how does it help in building a Flask API?\n",
        "\n",
        " Ans:It defines how the API works and ensures consistency and collaboration.\n",
        "\n",
        " 19.  What are HTTP status codes, and why are they important in a Flask API\n",
        "\n",
        " Ans: They defines teh result of HTTP Requests , like success or error.\n",
        "\n",
        " 20.  How do you handle POST requests in Flask?\n",
        "\n",
        " Ans: Use @app.route() with methods =[\"POST\"] and get data from requests.\n",
        "\n",
        " 21.  How would you secure a Flask API?\n",
        "\n",
        " Ans:use authentication , HTTPS ,input validataion , and tokens like JWT.\n",
        "\n",
        " 22.  What is the significance of the Flask-RESTful extension?\n",
        "\n",
        " Ans:It simplifies building REST APIs by providing resource classes.\n",
        "\n",
        " 23.  What is the role of Flask’s session object?\n",
        "\n",
        " Ans: Stores user data across requests using signed cookies.\n",
        "\n"
      ],
      "metadata": {
        "id": "QZvM0c127R5S"
      }
    },
    {
      "cell_type": "code",
      "source": [
        "#Practicals-\n",
        "\n",
        "# Q1 - How do you create a basic Flask application?\n",
        "\n",
        "from flask import Flask\n",
        "\n",
        "app = Flask(__name__)\n",
        "\n",
        "@app.route('/')\n",
        "def home():\n",
        "    return \"Hello, Flask!\"\n",
        "\n",
        "if __name__ == '__main__':\n",
        "    app.run(debug=True)\n"
      ],
      "metadata": {
        "colab": {
          "base_uri": "https://localhost:8080/"
        },
        "id": "-uxvRsN57Sza",
        "outputId": "a6d3e284-f384-49f6-9d23-048165af6c58"
      },
      "execution_count": 1,
      "outputs": [
        {
          "metadata": {
            "tags": null
          },
          "name": "stdout",
          "output_type": "stream",
          "text": [
            " * Serving Flask app '__main__'\n",
            " * Debug mode: on\n"
          ]
        },
        {
          "metadata": {
            "tags": null
          },
          "name": "stderr",
          "output_type": "stream",
          "text": [
            "INFO:werkzeug:\u001b[31m\u001b[1mWARNING: This is a development server. Do not use it in a production deployment. Use a production WSGI server instead.\u001b[0m\n",
            " * Running on http://127.0.0.1:5000\n",
            "INFO:werkzeug:\u001b[33mPress CTRL+C to quit\u001b[0m\n",
            "INFO:werkzeug: * Restarting with stat\n"
          ]
        }
      ]
    },
    {
      "cell_type": "code",
      "source": [
        "# Q2 - How do you serve static files like images or CSS in Flask?\n",
        "\n",
        "from flask import Flask\n",
        "\n",
        "app = Flask(__name__)\n",
        "\n",
        "# Place static files in a folder named 'static'\n",
        "@app.route('/')\n",
        "def index():\n",
        "    return '''\n",
        "    <html>\n",
        "        <head><link rel=\"stylesheet\" href=\"/static/style.css\"></head>\n",
        "        <body><img src=\"/static/image.png\"></body>\n",
        "    </html>\n",
        "    '''\n",
        "\n",
        "if __name__ == '__main__':\n",
        "    app.run(debug=True)"
      ],
      "metadata": {
        "colab": {
          "base_uri": "https://localhost:8080/"
        },
        "id": "0-1K74Rq7Yyr",
        "outputId": "7823ea39-59be-43bf-8d0f-8b4e9f0f5227"
      },
      "execution_count": null,
      "outputs": [
        {
          "output_type": "stream",
          "name": "stdout",
          "text": [
            " * Serving Flask app '__main__'\n",
            " * Debug mode: on\n"
          ]
        },
        {
          "output_type": "stream",
          "name": "stderr",
          "text": [
            "INFO:werkzeug:\u001b[31m\u001b[1mWARNING: This is a development server. Do not use it in a production deployment. Use a production WSGI server instead.\u001b[0m\n",
            " * Running on http://127.0.0.1:5000\n",
            "INFO:werkzeug:\u001b[33mPress CTRL+C to quit\u001b[0m\n",
            "INFO:werkzeug: * Restarting with stat\n"
          ]
        }
      ]
    },
    {
      "cell_type": "code",
      "source": [
        "# Q3 - How do you define different routes with different HTTP methods in Flask?\n",
        "\n",
        "from flask import Flask, request\n",
        "\n",
        "app = Flask(__name__)\n",
        "\n",
        "@app.route('/example', methods=['GET', 'POST'])\n",
        "def example():\n",
        "    if request.method == 'POST':\n",
        "        return 'You sent a POST request!'\n",
        "    return 'You sent a GET request!'\n",
        "\n",
        "if __name__ == '__main__':\n",
        "    app.run(debug=True)"
      ],
      "metadata": {
        "id": "-erXbUuw7mjK"
      },
      "execution_count": null,
      "outputs": []
    },
    {
      "cell_type": "code",
      "source": [
        "# Q4 - How do you render HTML templates in Flask?\n",
        "\n",
        "from flask import Flask, render_template\n",
        "\n",
        "app = Flask(__name__)\n",
        "\n",
        "@app.route('/')\n",
        "def home():\n",
        "    return render_template('index.html')  # Requires templates/index.html\n",
        "\n",
        "if __name__ == '__main__':\n",
        "    app.run(debug=True)\n"
      ],
      "metadata": {
        "id": "gWR9Urdb7uVl"
      },
      "execution_count": null,
      "outputs": []
    },
    {
      "cell_type": "code",
      "source": [
        "# Q5 - How can you generate URLs for routes in Flask using url_for?\n",
        "\n",
        "from flask import Flask, url_for\n",
        "\n",
        "app = Flask(__name__)\n",
        "\n",
        "@app.route('/')\n",
        "def index():\n",
        "    return f'URL for about page: {url_for(\"about\")}'\n",
        "\n",
        "@app.route('/about')\n",
        "def about():\n",
        "    return 'This is the about page.'\n",
        "\n",
        "if __name__ == '__main__':\n",
        "    app.run(debug=True)\n"
      ],
      "metadata": {
        "id": "GNpVQiCE7156"
      },
      "execution_count": null,
      "outputs": []
    },
    {
      "cell_type": "code",
      "source": [
        "# Q6 - How do you handle forms in Flask?\n",
        "\n",
        "from flask import Flask, request, render_template_string\n",
        "\n",
        "app = Flask(__name__)\n",
        "\n",
        "@app.route('/', methods=['GET', 'POST'])\n",
        "def form():\n",
        "    if request.method == 'POST':\n",
        "        name = request.form['name']\n",
        "        return f'Hello, {name}!'\n",
        "    return '''\n",
        "        <form method=\"POST\">\n",
        "            Name: <input name=\"name\">\n",
        "            <input type=\"submit\">\n",
        "        </form>\n",
        "    '''\n",
        "\n",
        "if __name__ == '__main__':\n",
        "    app.run(debug=True)"
      ],
      "metadata": {
        "id": "SktJ1h1777a8"
      },
      "execution_count": null,
      "outputs": []
    },
    {
      "cell_type": "code",
      "source": [
        "# Q7 - How can you validate form data in Flask?\n",
        "\n",
        "from flask import Flask, request\n",
        "\n",
        "app = Flask(__name__)\n",
        "\n",
        "@app.route('/', methods=['POST', 'GET'])\n",
        "def validate():\n",
        "    if request.method == 'POST':\n",
        "        email = request.form['email']\n",
        "        if '@' in email:\n",
        "            return 'Valid email!'\n",
        "        else:\n",
        "            return 'Invalid email!'\n",
        "    return '''\n",
        "        <form method=\"POST\">\n",
        "            Email: <input name=\"email\">\n",
        "            <input type=\"submit\">\n",
        "        </form>\n",
        "    '''\n",
        "\n",
        "if __name__ == '__main__':\n",
        "    app.run(debug=True)"
      ],
      "metadata": {
        "id": "XMNZKNn38avK"
      },
      "execution_count": null,
      "outputs": []
    },
    {
      "cell_type": "code",
      "source": [
        "# Q8 - How do you manage sessions in Flask?\n",
        "\n",
        "from flask import Flask, session, redirect, url_for, request\n",
        "\n",
        "app = Flask(__name__)\n",
        "app.secret_key = 'secret'\n",
        "\n",
        "@app.route('/', methods=['GET', 'POST'])\n",
        "def login():\n",
        "    if request.method == 'POST':\n",
        "        session['user'] = request.form['username']\n",
        "        return redirect(url_for('profile'))\n",
        "    return '''\n",
        "        <form method=\"POST\">\n",
        "            Username: <input name=\"username\">\n",
        "            <input type=\"submit\">\n",
        "        </form>\n",
        "    '''\n",
        "\n",
        "@app.route('/profile')\n",
        "def profile():\n",
        "    if 'user' in session:\n",
        "        return f'Welcome, {session[\"user\"]}!'\n",
        "    return 'Not logged in.'\n",
        "\n",
        "if __name__ == '__main__':\n",
        "    app.run(debug=True)\n"
      ],
      "metadata": {
        "id": "PDEgExzb8fka"
      },
      "execution_count": null,
      "outputs": []
    },
    {
      "cell_type": "code",
      "source": [
        "# Q9 - How do you redirect to a different route in Flask?\n",
        "\n",
        "from flask import Flask, redirect, url_for\n",
        "\n",
        "app = Flask(__name__)\n",
        "\n",
        "@app.route('/')\n",
        "def home():\n",
        "    return redirect(url_for('target'))\n",
        "\n",
        "@app.route('/target')\n",
        "def target():\n",
        "    return 'You were redirected here.'\n",
        "\n",
        "if __name__ == '__main__':\n",
        "    app.run(debug=True)\n"
      ],
      "metadata": {
        "id": "DLl9K3-38l0h"
      },
      "execution_count": null,
      "outputs": []
    },
    {
      "cell_type": "code",
      "source": [
        "# Q10 - How do you handle errors in Flask (e.g., 404)?\n",
        "\n",
        "from flask import Flask\n",
        "\n",
        "app = Flask(__name__)\n",
        "\n",
        "@app.errorhandler(404)\n",
        "def page_not_found(e):\n",
        "    return 'Custom 404 Error Page', 404\n",
        "\n",
        "if __name__ == '__main__':\n",
        "    app.run(debug=True)"
      ],
      "metadata": {
        "id": "pxZXJApl8p4F"
      },
      "execution_count": null,
      "outputs": []
    },
    {
      "cell_type": "code",
      "source": [
        "# Q11 - How do you structure a Flask app using Blueprints?\n",
        "\n",
        "# main.py\n",
        "from flask import Flask\n",
        "from routes import main\n",
        "\n",
        "app = Flask(__name__)\n",
        "app.register_blueprint(main)\n",
        "\n",
        "if __name__ == '__main__':\n",
        "    app.run(debug=True)\n",
        "\n",
        "# routes.py\n",
        "from flask import Blueprint\n",
        "\n",
        "main = Blueprint('main', __name__)\n",
        "\n",
        "@main.route('/')\n",
        "def home():\n",
        "    return 'This is from a blueprint!'"
      ],
      "metadata": {
        "id": "_QTrbO3C8tWx"
      },
      "execution_count": null,
      "outputs": []
    },
    {
      "cell_type": "code",
      "source": [
        "# Q12 - How do you define a custom Jinja filter in Flask?\n",
        "\n",
        "from flask import Flask, render_template_string\n",
        "\n",
        "app = Flask(__name__)\n",
        "\n",
        "@app.template_filter('reverse')\n",
        "def reverse_filter(s):\n",
        "    return s[::-1]\n",
        "\n",
        "@app.route('/')\n",
        "def home():\n",
        "    return render_template_string('{{ \"hello\" | reverse }}')\n",
        "\n",
        "if __name__ == '__main__':\n",
        "    app.run(debug=True)"
      ],
      "metadata": {
        "id": "VTtZYz04807P"
      },
      "execution_count": null,
      "outputs": []
    },
    {
      "cell_type": "code",
      "source": [
        "# Q13 - How can you redirect with query parameters in Flask?\n",
        "\n",
        "from flask import Flask, redirect, url_for, request\n",
        "\n",
        "app = Flask(__name__)\n",
        "\n",
        "@app.route('/')\n",
        "def index():\n",
        "    return redirect(url_for('greet', name='John'))\n",
        "\n",
        "@app.route('/greet')\n",
        "def greet():\n",
        "    name = request.args.get('name', 'Guest')\n",
        "    return f'Hello, {name}!'\n",
        "\n",
        "if __name__ == '__main__':\n",
        "    app.run(debug=True)"
      ],
      "metadata": {
        "id": "sb7IJh1N84PR"
      },
      "execution_count": null,
      "outputs": []
    },
    {
      "cell_type": "code",
      "source": [
        "# Q14 - How do you return JSON responses in Flask?\n",
        "\n",
        "from flask import Flask, jsonify\n",
        "\n",
        "app = Flask(__name__)\n",
        "\n",
        "@app.route('/data')\n",
        "def data():\n",
        "    return jsonify({\"name\": \"Flask\", \"type\": \"Web Framework\"})\n",
        "\n",
        "if __name__ == '__main__':\n",
        "    app.run(debug=True)\n"
      ],
      "metadata": {
        "id": "qluKgC_g87ik"
      },
      "execution_count": null,
      "outputs": []
    },
    {
      "cell_type": "code",
      "source": [
        "# Q15 - How do you capture URL parameters in Flask?\n",
        "\n",
        "from flask import Flask\n",
        "\n",
        "app = Flask(__name__)\n",
        "\n",
        "@app.route('/user/<username>')\n",
        "def show_user(username):\n",
        "    return f'Hello, {username}!'\n",
        "\n",
        "if __name__ == '__main__':\n",
        "    app.run(debug=True)"
      ],
      "metadata": {
        "id": "pcvbitfV8-16"
      },
      "execution_count": null,
      "outputs": []
    }
  ]
}